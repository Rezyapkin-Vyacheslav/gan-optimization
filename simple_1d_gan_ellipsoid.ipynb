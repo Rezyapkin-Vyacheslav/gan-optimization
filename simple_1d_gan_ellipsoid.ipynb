{
 "cells": [
  {
   "cell_type": "markdown",
   "metadata": {
    "colab_type": "text",
    "id": "KGtGH5Ds4Sw4"
   },
   "source": [
    "## Generative Adversarial Networks 101"
   ]
  },
  {
   "cell_type": "code",
   "execution_count": 1,
   "metadata": {
    "colab": {
     "base_uri": "https://localhost:8080/",
     "height": 279
    },
    "colab_type": "code",
    "id": "jGVgkjPp4Sw5",
    "outputId": "0e8e8594-6b72-4581-dee0-24514cbf9e26"
   },
   "outputs": [
    {
     "data": {
      "image/png": "[encoded data removed]",
      "text/plain": [
       "<Figure size 432x288 with 1 Axes>"
      ]
     },
     "metadata": {
      "needs_background": "light"
     },
     "output_type": "display_data"
    }
   ],
   "source": [
    "import numpy as np\n",
    "import random\n",
    "import torch, torch.nn as nn\n",
    "import torch.nn.functional as F\n",
    "from matplotlib import pyplot as plt\n",
    "from sklearn.neighbors import KernelDensity\n",
    "from optim.ellipsoid_sgd import EllipsoidSGD\n",
    "DEBUG = 0\n",
    "SHIFT = 0\n",
    "DEVICE = 'cuda' if torch.cuda.is_available() else 'cpu'\n",
    "# DEVICE = 'cpu'\n",
    "torch.manual_seed(42)\n",
    "torch.cuda.manual_seed(42)\n",
    "np.random.seed(42)\n",
    "random.seed(42)\n",
    "torch.backends.cudnn.enabled=False\n",
    "torch.backends.cudnn.deterministic=True\n",
    "\n",
    "def sample_real_data(size):\n",
    "    x1 = torch.randn(size, 1) * 1.5 + 9 + SHIFT\n",
    "    x2 = torch.randn(size, 1) * 5.0 - 5 + SHIFT\n",
    "\n",
    "    u = torch.rand(size, 1)\n",
    "    \n",
    "    return np.where(u > 0.5, x1, x2)\n",
    "\n",
    "\n",
    "def plot_data(x):\n",
    "    kde = KernelDensity(bandwidth=2.0, kernel='gaussian')\n",
    "    kde.fit(x)\n",
    "\n",
    "    x_grid = np.linspace(-17 + SHIFT, 17 + SHIFT, 1000)[:, None]\n",
    "    logprob = kde.score_samples(x_grid)\n",
    "\n",
    "    plt.xlim([-17 + SHIFT, 17 + SHIFT])\n",
    "    plt.plot(x_grid, np.exp(logprob))\n",
    "    \n",
    "    return kde\n",
    "\n",
    "def plot_classifier(cls, kde_real, kde_fake):\n",
    "    x_grid = np.linspace(-17 + SHIFT, 17 + SHIFT, 1000)[:, None]\n",
    "\n",
    "    p_pred = torch.sigmoid(cls(torch.from_numpy(x_grid).float().cuda())).cpu()\n",
    "    \n",
    "    p_real = np.exp(kde_real.score_samples(x_grid))\n",
    "    p_fake = np.exp(kde_fake.score_samples(x_grid))\n",
    "    \n",
    "    p_bayes = p_real / (p_real + p_fake + 1e-7)\n",
    "    \n",
    "    plt.xlim([-17 + SHIFT, 17 + SHIFT])\n",
    "    plt.plot(x_grid, p_pred.detach().cpu(), 'r--')\n",
    "    plt.plot(x_grid, p_bayes, 'r')\n",
    "\n",
    "X_real = sample_real_data(10000)\n",
    "\n",
    "plot_data(X_real)\n",
    "\n",
    "plt.legend(['p(x)'])\n",
    "plt.xlabel('x')\n",
    "plt.ylabel('prob')\n",
    "\n",
    "plt.show()"
   ]
  },
  {
   "cell_type": "code",
   "execution_count": 2,
   "metadata": {},
   "outputs": [],
   "source": [
    "def get_H(model, diag=False, eps=0.1):\n",
    "    # H0 = deepcopy(model)\n",
    "    H_list = [];\n",
    "    with torch.no_grad():\n",
    "        if diag:\n",
    "            for group in model.parameters():\n",
    "                h_group = [];\n",
    "                for p in group:\n",
    "                    h_group.append(torch.diag(torch.norm(p.view(-1), dim=0) + eps))\n",
    "                H_list.append(h_group)\n",
    "                if DEBUG>0:\n",
    "                    print(\"Parameter shape: \", p.size())\n",
    "                    print(\"H ellipsoid matrix shape: \", h_group[-1].size())\n",
    "        else:\n",
    "            for group in model.parameters():\n",
    "                h_group = []\n",
    "                for p in group:\n",
    "                    h_group.append(p.view(-1, 1).mm(p.view(1, -1)))\n",
    "                H_list.append(h_group)\n",
    "                if DEBUG>0:\n",
    "                    print(\"Parameter shape: \", p.size())\n",
    "                    print(\"H ellipsoid matrix shape: \", h_group[-1].size())\n",
    "    if DEBUG>1:\n",
    "        print(H_list)\n",
    "    return H_list"
   ]
  },
  {
   "cell_type": "code",
   "execution_count": 3,
   "metadata": {
    "colab": {},
    "colab_type": "code",
    "id": "_XE92jZY4Sw7"
   },
   "outputs": [],
   "source": [
    "# Generator is an MLP that converts noise into output data\n",
    "# import copy\n",
    "if DEVICE == \"cpu\":\n",
    "    gen = nn.Sequential(\n",
    "    nn.Linear(1, 32),\n",
    "    nn.ReLU(),\n",
    "    nn.Linear(32, 32),\n",
    "    nn.ReLU(),\n",
    "    nn.Linear(32, 32),\n",
    "    nn.ReLU(),\n",
    "    nn.Linear(32, 1),\n",
    "    ).cpu()\n",
    "elif DEVICE==\"cuda\":\n",
    "    gen = nn.Sequential(\n",
    "    nn.Linear(1, 32),\n",
    "    nn.ReLU(),\n",
    "    nn.Linear(32, 32),\n",
    "    nn.ReLU(),\n",
    "    nn.Linear(32, 32),\n",
    "    nn.ReLU(),\n",
    "    nn.Linear(32, 1),\n",
    "    ).cuda()\n",
    "gen_H = get_H(gen)"
   ]
  },
  {
   "cell_type": "code",
   "execution_count": 4,
   "metadata": {
    "colab": {},
    "colab_type": "code",
    "id": "_XE92jZY4Sw7"
   },
   "outputs": [],
   "source": [
    "# Discriminator is mirroring the architecture of the generator\n",
    "if DEVICE == \"cpu\":\n",
    "    dis = nn.Sequential(\n",
    "    nn.Linear(1, 32),\n",
    "    nn.ReLU(),\n",
    "    nn.Linear(32, 32),\n",
    "    nn.ReLU(),\n",
    "    nn.Linear(32, 32),\n",
    "    nn.ReLU(),\n",
    "    nn.Linear(32, 1),\n",
    "    nn.Sigmoid()).cpu()\n",
    "elif DEVICE==\"cuda\":\n",
    "    dis = nn.Sequential(\n",
    "    nn.Linear(1, 32),\n",
    "    nn.ReLU(),\n",
    "    nn.Linear(32, 32),\n",
    "    nn.ReLU(),\n",
    "    nn.Linear(32, 32),\n",
    "    nn.ReLU(),\n",
    "    nn.Linear(32, 1),\n",
    "    nn.Sigmoid()).cuda()\n",
    "dis_H = get_H(dis)\n",
    "\n",
    "gen_opt = EllipsoidSGD(gen.parameters(), H=gen_H, lr=1e-3) # Try using Adam or SGD\n",
    "dis_opt = EllipsoidSGD(dis.parameters(), H=dis_H, lr=1e-3) # TODO\n",
    "\n",
    "# Binary Cross Entropy for discriminator, for generator we'll non-saturating loss\n",
    "def calc_loss(real_preds=None, fake_preds=None, net_name=''):\n",
    "    if net_name == 'dis':\n",
    "        loss_real = -torch.log(real_preds)\n",
    "        loss_fake = -torch.log(1 - fake_preds)\n",
    "\n",
    "        loss = (loss_real + loss_fake) * 0.5\n",
    "    \n",
    "    elif net_name == 'gen':\n",
    "        loss = -torch.log(fake_preds)\n",
    "\n",
    "    return loss.mean()"
   ]
  },
  {
   "cell_type": "code",
   "execution_count": 5,
   "metadata": {
    "colab": {},
    "colab_type": "code",
    "id": "ztaGS20OPV2B"
   },
   "outputs": [],
   "source": [
    "# Alternative solution using PyTorch modules\n",
    "# criterion = nn.BCEWithLogitsLoss()\n",
    "\n",
    "# loss_D_real = criterion(real_scores, torch.ones_like(real_scores))\n",
    "# loss_D_fake = criterion(fake_scores, torch.zeros_like(fake_scores))\n",
    "\n",
    "# loss_G = criterion(fake_scores, torch.ones_like(fake_scores))"
   ]
  },
  {
   "cell_type": "code",
   "execution_count": 6,
   "metadata": {
    "colab": {},
    "colab_type": "code",
    "id": "Z9zDOhhZ4Sw-"
   },
   "outputs": [],
   "source": [
    "def train_dis(batch_size):\n",
    "    # Forward real\n",
    "    x_real = torch.from_numpy(sample_real_data(batch_size)).float().cuda()\n",
    "\n",
    "    real_preds = dis(x_real)\n",
    "    \n",
    "    # Forward fake\n",
    "    z = torch.randn(batch_size, 1).cuda()\n",
    "    x_fake = gen(z)\n",
    "\n",
    "    fake_preds = dis(x_fake.detach())\n",
    "\n",
    "    # Discriminator losses\n",
    "    loss_D = calc_loss(real_preds, fake_preds, net_name='dis')\n",
    "\n",
    "    # Discriminator step\n",
    "    dis_opt.zero_grad()\n",
    "    loss_D.backward()\n",
    "    dis_opt.step()\n",
    "\n",
    "    return loss_D.item()"
   ]
  },
  {
   "cell_type": "code",
   "execution_count": 7,
   "metadata": {
    "colab": {},
    "colab_type": "code",
    "id": "5BBn-OIF4SxA"
   },
   "outputs": [],
   "source": [
    "def train_gen(batch_size):\n",
    "    # Forward fake\n",
    "    z = torch.randn(batch_size, 1).cuda()\n",
    "    x_fake = gen(z)\n",
    "\n",
    "    fake_preds = dis(x_fake)\n",
    "\n",
    "    # Generator losses\n",
    "    loss_G = calc_loss(None, fake_preds, net_name='gen')\n",
    "\n",
    "    # Generator step\n",
    "    gen_opt.zero_grad()\n",
    "    loss_G.backward()\n",
    "    gen_opt.step()\n",
    "\n",
    "    return loss_G.item()"
   ]
  },
  {
   "cell_type": "code",
   "execution_count": 8,
   "metadata": {
    "colab": {
     "base_uri": "https://localhost:8080/",
     "height": 346
    },
    "colab_type": "code",
    "id": "XMQZSASN4SxC",
    "outputId": "703af6d2-5d75-4c74-ae70-682f368c83aa"
   },
   "outputs": [
    {
     "ename": "RuntimeError",
     "evalue": "cuda runtime error (999) : unknown error at /opt/conda/conda-bld/pytorch_1587428398394/work/aten/src/THC/THCGeneral.cpp:47",
     "output_type": "error",
     "traceback": [
      "\u001b[0;31m---------------------------------------------------------------------------\u001b[0m",
      "\u001b[0;31mRuntimeError\u001b[0m                              Traceback (most recent call last)",
      "\u001b[0;32m<ipython-input-8-81ef864ebdef>\u001b[0m in \u001b[0;36m<module>\u001b[0;34m\u001b[0m\n\u001b[1;32m     10\u001b[0m \u001b[0;32mfor\u001b[0m \u001b[0mi\u001b[0m \u001b[0;32min\u001b[0m \u001b[0mrange\u001b[0m\u001b[0;34m(\u001b[0m\u001b[0;36m1\u001b[0m\u001b[0;34m,\u001b[0m \u001b[0;36m100000\u001b[0m\u001b[0;34m)\u001b[0m\u001b[0;34m:\u001b[0m\u001b[0;34m\u001b[0m\u001b[0;34m\u001b[0m\u001b[0m\n\u001b[1;32m     11\u001b[0m     \u001b[0;32mfor\u001b[0m \u001b[0m_\u001b[0m \u001b[0;32min\u001b[0m \u001b[0mrange\u001b[0m\u001b[0;34m(\u001b[0m\u001b[0;36m1\u001b[0m\u001b[0;34m)\u001b[0m\u001b[0;34m:\u001b[0m\u001b[0;34m\u001b[0m\u001b[0;34m\u001b[0m\u001b[0m\n\u001b[0;32m---> 12\u001b[0;31m         \u001b[0mloss_D\u001b[0m \u001b[0;34m=\u001b[0m \u001b[0mtrain_dis\u001b[0m\u001b[0;34m(\u001b[0m\u001b[0;36m128\u001b[0m\u001b[0;34m)\u001b[0m\u001b[0;34m\u001b[0m\u001b[0;34m\u001b[0m\u001b[0m\n\u001b[0m\u001b[1;32m     13\u001b[0m \u001b[0;34m\u001b[0m\u001b[0m\n\u001b[1;32m     14\u001b[0m     \u001b[0mloss_G\u001b[0m \u001b[0;34m=\u001b[0m \u001b[0mtrain_gen\u001b[0m\u001b[0;34m(\u001b[0m\u001b[0;36m128\u001b[0m\u001b[0;34m)\u001b[0m\u001b[0;34m\u001b[0m\u001b[0;34m\u001b[0m\u001b[0m\n",
      "\u001b[0;32m<ipython-input-6-e413bb649c52>\u001b[0m in \u001b[0;36mtrain_dis\u001b[0;34m(batch_size)\u001b[0m\n\u001b[1;32m      1\u001b[0m \u001b[0;32mdef\u001b[0m \u001b[0mtrain_dis\u001b[0m\u001b[0;34m(\u001b[0m\u001b[0mbatch_size\u001b[0m\u001b[0;34m)\u001b[0m\u001b[0;34m:\u001b[0m\u001b[0;34m\u001b[0m\u001b[0;34m\u001b[0m\u001b[0m\n\u001b[1;32m      2\u001b[0m     \u001b[0;31m# Forward real\u001b[0m\u001b[0;34m\u001b[0m\u001b[0;34m\u001b[0m\u001b[0;34m\u001b[0m\u001b[0m\n\u001b[0;32m----> 3\u001b[0;31m     \u001b[0mx_real\u001b[0m \u001b[0;34m=\u001b[0m \u001b[0mtorch\u001b[0m\u001b[0;34m.\u001b[0m\u001b[0mfrom_numpy\u001b[0m\u001b[0;34m(\u001b[0m\u001b[0msample_real_data\u001b[0m\u001b[0;34m(\u001b[0m\u001b[0mbatch_size\u001b[0m\u001b[0;34m)\u001b[0m\u001b[0;34m)\u001b[0m\u001b[0;34m.\u001b[0m\u001b[0mfloat\u001b[0m\u001b[0;34m(\u001b[0m\u001b[0;34m)\u001b[0m\u001b[0;34m.\u001b[0m\u001b[0mcuda\u001b[0m\u001b[0;34m(\u001b[0m\u001b[0;34m)\u001b[0m\u001b[0;34m\u001b[0m\u001b[0;34m\u001b[0m\u001b[0m\n\u001b[0m\u001b[1;32m      4\u001b[0m \u001b[0;34m\u001b[0m\u001b[0m\n\u001b[1;32m      5\u001b[0m     \u001b[0mreal_preds\u001b[0m \u001b[0;34m=\u001b[0m \u001b[0mdis\u001b[0m\u001b[0;34m(\u001b[0m\u001b[0mx_real\u001b[0m\u001b[0;34m)\u001b[0m\u001b[0;34m\u001b[0m\u001b[0;34m\u001b[0m\u001b[0m\n",
      "\u001b[0;32m~/miniconda3/envs/dl/lib/python3.7/site-packages/torch/cuda/__init__.py\u001b[0m in \u001b[0;36m_lazy_init\u001b[0;34m()\u001b[0m\n\u001b[1;32m    151\u001b[0m             raise AssertionError(\n\u001b[1;32m    152\u001b[0m                 \"libcudart functions unavailable. It looks like you have a broken build?\")\n\u001b[0;32m--> 153\u001b[0;31m         \u001b[0mtorch\u001b[0m\u001b[0;34m.\u001b[0m\u001b[0m_C\u001b[0m\u001b[0;34m.\u001b[0m\u001b[0m_cuda_init\u001b[0m\u001b[0;34m(\u001b[0m\u001b[0;34m)\u001b[0m\u001b[0;34m\u001b[0m\u001b[0;34m\u001b[0m\u001b[0m\n\u001b[0m\u001b[1;32m    154\u001b[0m         \u001b[0;31m# Some of the queued calls may reentrantly call _lazy_init();\u001b[0m\u001b[0;34m\u001b[0m\u001b[0;34m\u001b[0m\u001b[0;34m\u001b[0m\u001b[0m\n\u001b[1;32m    155\u001b[0m         \u001b[0;31m# we need to just return without initializing in that case.\u001b[0m\u001b[0;34m\u001b[0m\u001b[0;34m\u001b[0m\u001b[0;34m\u001b[0m\u001b[0m\n",
      "\u001b[0;31mRuntimeError\u001b[0m: cuda runtime error (999) : unknown error at /opt/conda/conda-bld/pytorch_1587428398394/work/aten/src/THC/THCGeneral.cpp:47"
     ]
    }
   ],
   "source": [
    "import matplotlib.pyplot as plt\n",
    "from IPython.display import clear_output\n",
    "%matplotlib inline\n",
    "\n",
    "\n",
    "\n",
    "losses_D_hist = []\n",
    "losses_G_hist = []\n",
    "\n",
    "for i in range(1, 100000):    \n",
    "    for _ in range(1):\n",
    "        loss_D = train_dis(128)\n",
    "    \n",
    "    loss_G = train_gen(128)\n",
    "    \n",
    "    losses_D_hist.append(loss_D)\n",
    "    losses_G_hist.append(loss_G)\n",
    "    \n",
    "    if i % 50 == 0:\n",
    "        clear_output(True)\n",
    "        print(f'Iter {i}')\n",
    "\n",
    "        X_real = sample_real_data(10000)\n",
    "        X_fake = gen(torch.randn(10000, 1).cuda()).detach().cpu().numpy()\n",
    "\n",
    "        kde_real = plot_data(X_real)\n",
    "        kde_fake = plot_data(X_fake)\n",
    "        plt.legend(['p_real', 'q_fake'])\n",
    "        plt.show()\n",
    "\n",
    "        plot_classifier(dis, kde_real, kde_fake)\n",
    "        plt.legend(['p_dis', 'p_bayes'])\n",
    "        plt.show()\n",
    "\n",
    "        plt.plot(losses_D_hist)\n",
    "        plt.plot(losses_G_hist)\n",
    "        plt.ylim([0, 2.5])\n",
    "        plt.legend(['loss_D', 'loss_G'])\n",
    "        plt.show()"
   ]
  }
 ],
 "metadata": {
  "accelerator": "GPU",
  "colab": {
   "collapsed_sections": [],
   "name": "simple_1d_gan_pytorch.ipynb",
   "provenance": []
  },
  "kernelspec": {
   "display_name": "Python 3",
   "language": "python",
   "name": "python3"
  },
  "language_info": {
   "codemirror_mode": {
    "name": "ipython",
    "version": 3
   },
   "file_extension": ".py",
   "mimetype": "text/x-python",
   "name": "python",
   "nbconvert_exporter": "python",
   "pygments_lexer": "ipython3",
   "version": "3.7.7"
  }
 },
 "nbformat": 4,
 "nbformat_minor": 1
}
